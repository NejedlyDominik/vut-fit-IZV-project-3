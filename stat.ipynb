{
 "metadata": {
  "language_info": {
   "codemirror_mode": {
    "name": "ipython",
    "version": 3
   },
   "file_extension": ".py",
   "mimetype": "text/x-python",
   "name": "python",
   "nbconvert_exporter": "python",
   "pygments_lexer": "ipython3",
   "version": "3.9.1-final"
  },
  "orig_nbformat": 2,
  "kernelspec": {
   "name": "python3",
   "display_name": "Python 3.9.1 64-bit",
   "metadata": {
    "interpreter": {
     "hash": "979e1c3625e51ef9f6c9b075b224e70bb1436c63c743a99b603b8ad2c9357af1"
    }
   }
  }
 },
 "nbformat": 4,
 "nbformat_minor": 2,
 "cells": [
  {
   "source": [
    "# Ověřování hypotézy pomoci $\\chi^2$ testu\n",
    "\n",
    "S 95 % jistotou ověřujeme následující hypotézu: \n",
    "\n",
    "*Pokud viník nehody byl pod silným vlivem alkoholu, došlo častěji k těžkým zdravotním\n",
    "následkům.*"
   ],
   "cell_type": "markdown",
   "metadata": {}
  },
  {
   "source": [
    "## Příprava knihoven a nahrání dat\n",
    "\n",
    "Nejprve si nahrajeme potřebné knihovny. V tomto testu si vystačíme s knihovnami pro zpracování dat `numpy` a `pandas` a s knihovnou pro statistickou analýzu `scipy.stats`."
   ],
   "cell_type": "markdown",
   "metadata": {}
  },
  {
   "source": [
    "import numpy as np\n",
    "import pandas as pd\n",
    "import scipy.stats as st"
   ],
   "cell_type": "code",
   "metadata": {},
   "execution_count": 1,
   "outputs": []
  },
  {
   "source": [
    "Nyní si vytvoříme dataframe, do kterého nahrajeme předzpracovaná data ze souboru `accidents.plk.gz`."
   ],
   "cell_type": "markdown",
   "metadata": {}
  },
  {
   "cell_type": "code",
   "execution_count": 2,
   "metadata": {},
   "outputs": [
    {
     "output_type": "execute_result",
     "data": {
      "text/plain": [
       "             p1 p36 p37         p2a weekday(p2a)   p2b p6  p7  p8  p9  ...  l  \\\n",
       "0  002100160001   4      2016-01-01            5  0055  1   1   0   2  ...      \n",
       "1  002100160002   4      2016-01-01            5  0130  1   3   0   2  ...      \n",
       "2  002100160003   5      2016-01-01            5  0100  1   2   0   2  ...      \n",
       "3  002100160004   6      2016-01-01            5  0120  9   0   0   2  ...      \n",
       "4  002100160005   6      2016-01-01            5  2560  2   0   0   2  ...      \n",
       "\n",
       "        n  o                       p       q       r       s  \\\n",
       "0  711403     Souhlasnýsesměremúseku  Pomalý  554782  451622   \n",
       "1                                                              \n",
       "2                                                              \n",
       "3                                                              \n",
       "4                                                              \n",
       "\n",
       "                    t  p5a  region  \n",
       "0  GN_V0.1UIR-ADR_410    1     PHA  \n",
       "1                        1     PHA  \n",
       "2                        1     PHA  \n",
       "3                        1     PHA  \n",
       "4                        1     PHA  \n",
       "\n",
       "[5 rows x 65 columns]"
      ],
      "text/html": "<div>\n<style scoped>\n    .dataframe tbody tr th:only-of-type {\n        vertical-align: middle;\n    }\n\n    .dataframe tbody tr th {\n        vertical-align: top;\n    }\n\n    .dataframe thead th {\n        text-align: right;\n    }\n</style>\n<table border=\"1\" class=\"dataframe\">\n  <thead>\n    <tr style=\"text-align: right;\">\n      <th></th>\n      <th>p1</th>\n      <th>p36</th>\n      <th>p37</th>\n      <th>p2a</th>\n      <th>weekday(p2a)</th>\n      <th>p2b</th>\n      <th>p6</th>\n      <th>p7</th>\n      <th>p8</th>\n      <th>p9</th>\n      <th>...</th>\n      <th>l</th>\n      <th>n</th>\n      <th>o</th>\n      <th>p</th>\n      <th>q</th>\n      <th>r</th>\n      <th>s</th>\n      <th>t</th>\n      <th>p5a</th>\n      <th>region</th>\n    </tr>\n  </thead>\n  <tbody>\n    <tr>\n      <th>0</th>\n      <td>002100160001</td>\n      <td>4</td>\n      <td></td>\n      <td>2016-01-01</td>\n      <td>5</td>\n      <td>0055</td>\n      <td>1</td>\n      <td>1</td>\n      <td>0</td>\n      <td>2</td>\n      <td>...</td>\n      <td></td>\n      <td>711403</td>\n      <td></td>\n      <td>Souhlasnýsesměremúseku</td>\n      <td>Pomalý</td>\n      <td>554782</td>\n      <td>451622</td>\n      <td>GN_V0.1UIR-ADR_410</td>\n      <td>1</td>\n      <td>PHA</td>\n    </tr>\n    <tr>\n      <th>1</th>\n      <td>002100160002</td>\n      <td>4</td>\n      <td></td>\n      <td>2016-01-01</td>\n      <td>5</td>\n      <td>0130</td>\n      <td>1</td>\n      <td>3</td>\n      <td>0</td>\n      <td>2</td>\n      <td>...</td>\n      <td></td>\n      <td></td>\n      <td></td>\n      <td></td>\n      <td></td>\n      <td></td>\n      <td></td>\n      <td></td>\n      <td>1</td>\n      <td>PHA</td>\n    </tr>\n    <tr>\n      <th>2</th>\n      <td>002100160003</td>\n      <td>5</td>\n      <td></td>\n      <td>2016-01-01</td>\n      <td>5</td>\n      <td>0100</td>\n      <td>1</td>\n      <td>2</td>\n      <td>0</td>\n      <td>2</td>\n      <td>...</td>\n      <td></td>\n      <td></td>\n      <td></td>\n      <td></td>\n      <td></td>\n      <td></td>\n      <td></td>\n      <td></td>\n      <td>1</td>\n      <td>PHA</td>\n    </tr>\n    <tr>\n      <th>3</th>\n      <td>002100160004</td>\n      <td>6</td>\n      <td></td>\n      <td>2016-01-01</td>\n      <td>5</td>\n      <td>0120</td>\n      <td>9</td>\n      <td>0</td>\n      <td>0</td>\n      <td>2</td>\n      <td>...</td>\n      <td></td>\n      <td></td>\n      <td></td>\n      <td></td>\n      <td></td>\n      <td></td>\n      <td></td>\n      <td></td>\n      <td>1</td>\n      <td>PHA</td>\n    </tr>\n    <tr>\n      <th>4</th>\n      <td>002100160005</td>\n      <td>6</td>\n      <td></td>\n      <td>2016-01-01</td>\n      <td>5</td>\n      <td>2560</td>\n      <td>2</td>\n      <td>0</td>\n      <td>0</td>\n      <td>2</td>\n      <td>...</td>\n      <td></td>\n      <td></td>\n      <td></td>\n      <td></td>\n      <td></td>\n      <td></td>\n      <td></td>\n      <td></td>\n      <td>1</td>\n      <td>PHA</td>\n    </tr>\n  </tbody>\n</table>\n<p>5 rows × 65 columns</p>\n</div>"
     },
     "metadata": {},
     "execution_count": 2
    }
   ],
   "source": [
    "df = pd.read_pickle(\"accidents.pkl.gz\", compression='gzip')\n",
    "df.head()   # zobrazeni 5 prvnich zaznamu"
   ]
  },
  {
   "source": [
    "## Výběr a zisk dat pro následující testování\n",
    "\n",
    "Nyní si z načteného datasetu vybereme potřebné sloupce a relevantní záznamy.\n",
    "\n",
    "Vybereme tedy následující sloupce:\n",
    "\n",
    "- `p11` - alkohol u nehody viníka přítomem\n",
    "- `p13a` - usmrceno osob\n",
    "- `p13b` - těžce zraněno osob\n",
    "\n",
    "Z datasetu dále vyloučíme záznamy, kdy byl viník nehody pod vlivem drog (`p11`* == 4* a `p11`* == 5*)."
   ],
   "cell_type": "markdown",
   "metadata": {}
  },
  {
   "cell_type": "code",
   "execution_count": 3,
   "metadata": {},
   "outputs": [
    {
     "output_type": "execute_result",
     "data": {
      "text/plain": [
       "   p11  p13a  p13b\n",
       "0    2     0     0\n",
       "1    2     0     0\n",
       "2    2     0     0\n",
       "3    9     0     0\n",
       "4    0     0     0"
      ],
      "text/html": "<div>\n<style scoped>\n    .dataframe tbody tr th:only-of-type {\n        vertical-align: middle;\n    }\n\n    .dataframe tbody tr th {\n        vertical-align: top;\n    }\n\n    .dataframe thead th {\n        text-align: right;\n    }\n</style>\n<table border=\"1\" class=\"dataframe\">\n  <thead>\n    <tr style=\"text-align: right;\">\n      <th></th>\n      <th>p11</th>\n      <th>p13a</th>\n      <th>p13b</th>\n    </tr>\n  </thead>\n  <tbody>\n    <tr>\n      <th>0</th>\n      <td>2</td>\n      <td>0</td>\n      <td>0</td>\n    </tr>\n    <tr>\n      <th>1</th>\n      <td>2</td>\n      <td>0</td>\n      <td>0</td>\n    </tr>\n    <tr>\n      <th>2</th>\n      <td>2</td>\n      <td>0</td>\n      <td>0</td>\n    </tr>\n    <tr>\n      <th>3</th>\n      <td>9</td>\n      <td>0</td>\n      <td>0</td>\n    </tr>\n    <tr>\n      <th>4</th>\n      <td>0</td>\n      <td>0</td>\n      <td>0</td>\n    </tr>\n  </tbody>\n</table>\n</div>"
     },
     "metadata": {},
     "execution_count": 3
    }
   ],
   "source": [
    "df = df[['p11', 'p13a', 'p13b']]\n",
    "df = df[~df['p11'].isin([4, 5])]\n",
    "df.head()   # zobrazeni 5 prvnich zaznamu"
   ]
  },
  {
   "source": [
    "## $\\chi^2$ test\n",
    "\n",
    "Nyní zjistíme, zdali je korelace mezi silným vlivem alkoholu u viníka nehody a těžkými zdravotními následky nehody *statisticky významná*, k čemuž využijeme **$\\chi^2$ chí-kvadrát testu**.\n",
    "\n",
    "Předpokládáme, že mezi vstupními daty není korelace (nulová hypotéza *$H_0$*).\n",
    "\n",
    "Nejprve si *binarizujeme* potřebné proměnné. Do dataframu `df` přidáme následující sloupce:\n",
    "\n",
    "- `alcohol` - reprezentuje, zdali byl viník nehody pod silným vlivem alkoholu (`True` - u viníka nehody bylo naměřeno 0,8 ‰ nebo více alkoholu v krvi, `False` - jinak)\n",
    "- `injuries` - reprezentuje, zdali došlo k těžkým zdravotním následkům (`True` - úmrtí nebo těžká zranění, `False` - jinak)"
   ],
   "cell_type": "markdown",
   "metadata": {}
  },
  {
   "cell_type": "code",
   "execution_count": 4,
   "metadata": {},
   "outputs": [
    {
     "output_type": "execute_result",
     "data": {
      "text/plain": [
       "   p11  p13a  p13b  alcohol  injuries\n",
       "0    2     0     0    False     False\n",
       "1    2     0     0    False     False\n",
       "2    2     0     0    False     False\n",
       "3    9     0     0     True     False\n",
       "4    0     0     0    False     False"
      ],
      "text/html": "<div>\n<style scoped>\n    .dataframe tbody tr th:only-of-type {\n        vertical-align: middle;\n    }\n\n    .dataframe tbody tr th {\n        vertical-align: top;\n    }\n\n    .dataframe thead th {\n        text-align: right;\n    }\n</style>\n<table border=\"1\" class=\"dataframe\">\n  <thead>\n    <tr style=\"text-align: right;\">\n      <th></th>\n      <th>p11</th>\n      <th>p13a</th>\n      <th>p13b</th>\n      <th>alcohol</th>\n      <th>injuries</th>\n    </tr>\n  </thead>\n  <tbody>\n    <tr>\n      <th>0</th>\n      <td>2</td>\n      <td>0</td>\n      <td>0</td>\n      <td>False</td>\n      <td>False</td>\n    </tr>\n    <tr>\n      <th>1</th>\n      <td>2</td>\n      <td>0</td>\n      <td>0</td>\n      <td>False</td>\n      <td>False</td>\n    </tr>\n    <tr>\n      <th>2</th>\n      <td>2</td>\n      <td>0</td>\n      <td>0</td>\n      <td>False</td>\n      <td>False</td>\n    </tr>\n    <tr>\n      <th>3</th>\n      <td>9</td>\n      <td>0</td>\n      <td>0</td>\n      <td>True</td>\n      <td>False</td>\n    </tr>\n    <tr>\n      <th>4</th>\n      <td>0</td>\n      <td>0</td>\n      <td>0</td>\n      <td>False</td>\n      <td>False</td>\n    </tr>\n  </tbody>\n</table>\n</div>"
     },
     "metadata": {},
     "execution_count": 4
    }
   ],
   "source": [
    "df['alcohol'] = (df['p11'] >= 7)\n",
    "df['injuries'] = ((df['p13a'] + df['p13b']) > 0)\n",
    "df.head()   # zobrazeni 5 prvnich zaznamu"
   ]
  },
  {
   "source": [
    "Nyní si vytvoříme kontingenční tabulku pomocí funkce `crosstab` z knihovny `pandas` pro všechny 4 kombinace vstupů:\n",
    "\n",
    "| Alcohol | Injuries |\n",
    "| ------- | -------- |\n",
    "| `False` | `False` |\n",
    "| `False` | `True` |\n",
    "| `True` | `False` |\n",
    "| `True` | `True` |"
   ],
   "cell_type": "markdown",
   "metadata": {}
  },
  {
   "cell_type": "code",
   "execution_count": 5,
   "metadata": {},
   "outputs": [
    {
     "output_type": "execute_result",
     "data": {
      "text/plain": [
       "injuries   False  True \n",
       "alcohol                \n",
       "False     457528  10777\n",
       "True       16492    886"
      ],
      "text/html": "<div>\n<style scoped>\n    .dataframe tbody tr th:only-of-type {\n        vertical-align: middle;\n    }\n\n    .dataframe tbody tr th {\n        vertical-align: top;\n    }\n\n    .dataframe thead th {\n        text-align: right;\n    }\n</style>\n<table border=\"1\" class=\"dataframe\">\n  <thead>\n    <tr style=\"text-align: right;\">\n      <th>injuries</th>\n      <th>False</th>\n      <th>True</th>\n    </tr>\n    <tr>\n      <th>alcohol</th>\n      <th></th>\n      <th></th>\n    </tr>\n  </thead>\n  <tbody>\n    <tr>\n      <th>False</th>\n      <td>457528</td>\n      <td>10777</td>\n    </tr>\n    <tr>\n      <th>True</th>\n      <td>16492</td>\n      <td>886</td>\n    </tr>\n  </tbody>\n</table>\n</div>"
     },
     "metadata": {},
     "execution_count": 5
    }
   ],
   "source": [
    "ct = pd.crosstab(df['alcohol'], df['injuries'])\n",
    "ct  # zobrazeni tabulky"
   ]
  },
  {
   "source": [
    "Nyní si můžeme pro získanou tabulku vypočítat **$\\chi^2$ chí-kvadrát test**.\n",
    "\n",
    "Hodnotu $\\chi^2_{test}$ lze spočítat pomocí vzorce:\n",
    "\n",
    "$$\\chi^2_{test}=\\sum_{\\forall i}\\frac{(O_i-E_i)^2}{E_i}$$\n",
    "\n",
    "- $O_i$ - získaná hodnota\n",
    "- $E_i$ - očekávaná hodnota, kterou lze vypočítat pomocí vzorce:\n",
    "\n",
    "$$E_i=\\frac{\\sum_{r \\in row(i)}{O_r} \\cdot \\sum_{c \\in col(i)}{O_c}}{\\sum_{\\forall j}{O_j}}$$\n",
    "\n",
    "Dále je možné vypočítat pravděpodobnost  $P(\\chi^2 > \\chi^2_{test})$, kterou je možné určit díky následující funkci hustoty rozložení pravděpodobnosti:\n",
    "\n",
    "$$f(x, DF)=\\frac{1}{2^{DF/2-1} \\Gamma \\left( DF/2 \\right)} x^{DF-1} e^{ -x^2/2}$$\n",
    "\n",
    "- $DF$ - stupeň volnosti\n",
    "\n",
    "Všechny výše zmíněné úkony můžeme ale nechat na funkci `scipy.stats.chi2_contingency()`(kterou také použijeme). Ta vypočítá *chí-kvadrát* statistiku (**xi2**), *p-hodnotu*(tedy danou pravděpodobnost - **p-value**) a dále k s těmito hodnotami vrací i stupeň volnosti (**DF**) a očekávané hodnoty (**E**). Funkce vrací hodnoty ve formátu 4-tice (**xi2**, **p-value**, **DF**, **E**), přičemž k určení, zdali je korelace statisticky významná potřebujeme znát *p-hodnotu*(**p-value**)."
   ],
   "cell_type": "markdown",
   "metadata": {}
  },
  {
   "cell_type": "code",
   "execution_count": 6,
   "metadata": {},
   "outputs": [
    {
     "output_type": "display_data",
     "data": {
      "text/plain": "'P(X^2 > 558.17) = 2.09715057003383e-123'"
     },
     "metadata": {}
    }
   ],
   "source": [
    "xi2, p, _, _ = st.chi2_contingency(ct)\n",
    "display(f'P(X^2 > {xi2:.2f}) = {p}')    # zobrazeni vysledne pravdepodobnosti"
   ]
  },
  {
   "source": [
    "Hodnota $2.1\\cdot10^{-123}$ (*p-hodnota*) je mnohem menší než $0.05$, z toho důvodu zamítneme nulovou hypotézu ($H_0$ - mezi vstupními daty není korelace) a můžeme tedy říct, že korelace mezi silným vlivem alkoholu u viníka a těžkými zdravotními následky nehody je *statisticky významná*.\n",
    "\n",
    "Víme tedy, že mezi vstupními daty je korelace, ovšem zatím nejsme schopni říci, zdali pod silným vlivem alkoholu došlo opravdu častěji k těžkým zdravotním následkům. Z dat v kontingenční tabulce `ct` jsme ale schopni si vypočítat pravděpodobnosti těžkých zdravotních následů, pokud byl viník pod silným vlivem alkoholu, či nikoli."
   ],
   "cell_type": "markdown",
   "metadata": {}
  },
  {
   "cell_type": "code",
   "execution_count": 7,
   "metadata": {},
   "outputs": [
    {
     "output_type": "display_data",
     "data": {
      "text/plain": "'p_alcohol = 0.0510'"
     },
     "metadata": {}
    },
    {
     "output_type": "display_data",
     "data": {
      "text/plain": "'p_not_alcohol = 0.0230'"
     },
     "metadata": {}
    }
   ],
   "source": [
    "p_alcohol = ct[1][1]/(ct[0][1] + ct[1][1])\n",
    "p_not_alcohol = ct[1][0]/(ct[0][0] + ct[1][0])\n",
    "display(f\"p_alcohol = {p_alcohol:.4f}\")\n",
    "display(f\"p_not_alcohol = {p_not_alcohol:.4f}\")"
   ]
  },
  {
   "source": [
    "Zde vidíme, že pod silným vlivem alkoholu došlo v 5 % případů k těžkým zdravotním následům, což je více než dvojnásobná pravděpodobnost oproti tomu, kdy řidič pod silným vlivem alkoholu nebyl. Tedy můžeme s jistotou říct, že pokud byl viník pod silným vlivem alkoholu, tak došlo častěji k těžkým zdravotním následkům (to, že je tato korelace *statisticky význámná významná* už víme díky **$\\chi^2$ chí-kvadrát testu**).\n",
    "\n",
    "Ke zjištění korelace můžeme také použít **Pearsonův korelační koeficient** dle vzorce:\n",
    "\n",
    "$$r_{xy} =\\frac{\\sum ^n _{i=1}(x_i - \\bar{x})(y_i - \\bar{y})}{\\sqrt{\\sum ^n _{i=1}(x_i - \\bar{x})^2} \\sqrt{\\sum ^n _{i=1}(y_i - \\bar{y})^2}}$$\n",
    "\n",
    "Celý výpočet můžeme nechat na funkci `scipy.stats.pearsonr()`. Tato funkce vrací *Pearsonův korelační koeficient* (**corr_coef**) a *p-hodnotu* (**p-value**) jako dvojici (**corr_coef**, **p-value**). *P-hodnota* nás zde nyní ale nezajímá, jelikož *statistickou významnost* korelace jsme již ověřili pomocí **$\\chi^2$ chí-kvadrát testu**."
   ],
   "cell_type": "markdown",
   "metadata": {}
  },
  {
   "cell_type": "code",
   "execution_count": 8,
   "metadata": {},
   "outputs": [
    {
     "output_type": "display_data",
     "data": {
      "text/plain": "'corr_coef = 0.033936908140830946'"
     },
     "metadata": {}
    }
   ],
   "source": [
    "corr_coef, _ = st.stats.pearsonr(df['alcohol'], df['injuries'])\r\n",
    "display(f\"corr_coef = {corr_coef}\")  # Pearsonuv korelacni koeficient"
   ]
  },
  {
   "source": [
    "Zde nám vychází pozitivní **Pearsonův korelační koeficient**, což znamená, že pod silným vlivem alkoholu u viníka nehody došlo častěji k těžkým zdravotním následkům (Pokud by byl korelační koeficient záporný, znamenalo by to, že při silném vlivu alkoholu u viníka, došlo k těžkým zdravotním následkům méně často, než když viník pod silným vlivem alkoholu nebyl)."
   ],
   "cell_type": "markdown",
   "metadata": {}
  },
  {
   "source": [
    "## Inspirace\n",
    "\n",
    "Celý tento notebook vychází z přednášek předmětu IZV a notebooku 01_korelace.ipynb dostupného v souborech k předmětu."
   ],
   "cell_type": "markdown",
   "metadata": {}
  }
 ]
}